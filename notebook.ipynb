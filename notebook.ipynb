{
 "cells": [
  {
   "cell_type": "markdown",
   "id": "d2f92af6",
   "metadata": {},
   "source": [
    "# Milestone 1 - Machine Performance Data Analyis for Smart Manufacuring Parctice"
   ]
  },
  {
   "cell_type": "markdown",
   "id": "a4f4aa6e",
   "metadata": {},
   "source": [
    "Tableau URL:\n",
    "\n",
    "https://public.tableau.com/views/Book2_17478196612950/MachinePerformanceinTheFactory?:language=en-US&publish=yes&:sid=&:redirect=auth&:display_count=n&:origin=viz_share_link"
   ]
  },
  {
   "cell_type": "markdown",
   "id": "1ffe862a",
   "metadata": {},
   "source": [
    "# I. Introduction"
   ]
  },
  {
   "cell_type": "markdown",
   "id": "3682400c",
   "metadata": {},
   "source": [
    "Name: Ilham Wahdini\n",
    "\n",
    "Batch: RMT-043\n",
    "\n",
    "In this program, I am conducting a comprehensive data analysis project focused on evaluating production efficiency and energy consumption in smart manufacturing. Through this project, I aim to apply statistical methods and data visualization techniques to extract meaningful insights from the dataset, which will support decision-making for improving manufacturing processes."
   ]
  },
  {
   "cell_type": "markdown",
   "id": "5fb11d07",
   "metadata": {},
   "source": [
    "# II. Problem Statement and Dataset Description"
   ]
  },
  {
   "cell_type": "markdown",
   "id": "b6f51c79",
   "metadata": {},
   "source": [
    "2.1. Problem Topic\n",
    "\n",
    "Analysis of Production Efficiency and Energy Consumption in Smart Manufacturing."
   ]
  },
  {
   "cell_type": "markdown",
   "id": "19cdddf9",
   "metadata": {},
   "source": [
    "2.2. Background\n",
    "\n",
    "In the manufacturing industry, production processes are critical to achieving maximum output with high quality and low operational costs. Energy consumption is a major cost driver in manufacturing operations and plays a significant role in overall efficiency. Moreover, good product quality with low defect, sustainability and waste reduction have become key focuses in Industry 4.0. By studying historical operational data, companies can identify patterns and opportunities to enhance performance. With statistical analysis and data visualization, data-driven decisions can be made to optimize production processes, making them smarter, more efficient, and environmentally friendly."
   ]
  },
  {
   "cell_type": "markdown",
   "id": "350ab9c6",
   "metadata": {},
   "source": [
    "2.3. Problem Statement\n",
    "\n",
    "Specific: Focused on energy consumption and defect data from machines in dataset.\n",
    "\n",
    "Measurable: Uses clear metrics such as total and average energy and defect, and also their correlation.\n",
    "\n",
    "Achievable:\tFeasible using available dataset, statistical analysis and visualization by using Python and Tableau.\n",
    "\n",
    "Relevant: Addresses real operational and quality issues in smart manufacturing environments.\n",
    "\n",
    "Time-bound\tAnalysis is scoped within a monthly dataset.\n",
    "\n",
    "To identify inefficiencies and opportunities for improvement in a smart manufacturing process by analyzing one month of machine-level data on energy consumption, defects by using statistical methods and visualizations to detect measure performance and evaluate correlations, and test if machine differences significantly affect energy use and defect rates.\n",
    "\n"
   ]
  },
  {
   "cell_type": "markdown",
   "id": "f6ece4fd",
   "metadata": {},
   "source": [
    "2.4. Dataset Source\n",
    "\n",
    "Dataset URL: https://www.kaggle.com/datasets/ziya07/smart-manufacturing-resource-efficiency-dataset\n",
    "\n",
    "Dataset Description:\n",
    "This dataset provides a comprehensive snapshot of smart manufacturing operations, focusing on sustainability and process optimization. It supports analysis for improving energy efficiency, minimizing material waste, and enhancing production quality within Industry 4.0 frameworks. The dataset is ideal for developing intelligent control strategies, predictive maintenance models, and reinforcement learning applications in manufacturing."
   ]
  },
  {
   "cell_type": "markdown",
   "id": "a9c0856e",
   "metadata": {},
   "source": [
    "2.5 Problem Analysis Description\n",
    "\n",
    "The analysis will address the following key questions using statistical methods and data visualization:\n",
    "1. Are there any outliers in energy consumption and defect datas?\n",
    "2. Which machine has the highest total performance (output) in a month?\n",
    "3. Which machine consumes the most energy in total per month?\n",
    "4. Which machine consumes the most average energy?\n",
    "5. Which machine produce the most average defect?\n",
    "6. Are there any correlation between energy product output and energy consumption, also product output and defect?\n",
    "7. Are energy and defect significantly affected by machine?\n",
    "\n",
    "\n",
    "\n"
   ]
  },
  {
   "cell_type": "markdown",
   "id": "c349510c",
   "metadata": {},
   "source": [
    "# III. Data Loading"
   ]
  },
  {
   "cell_type": "code",
   "execution_count": 24,
   "id": "7f551db4",
   "metadata": {},
   "outputs": [],
   "source": [
    "# Import Laibraries\n",
    "\n",
    "import pandas as pd\n",
    "from scipy import stats\n",
    "from scipy.stats import skew, kurtosis\n",
    "import matplotlib.pyplot as plt\n"
   ]
  },
  {
   "cell_type": "code",
   "execution_count": 25,
   "id": "53d67f06",
   "metadata": {},
   "outputs": [
    {
     "data": {
      "text/html": [
       "<div>\n",
       "<style scoped>\n",
       "    .dataframe tbody tr th:only-of-type {\n",
       "        vertical-align: middle;\n",
       "    }\n",
       "\n",
       "    .dataframe tbody tr th {\n",
       "        vertical-align: top;\n",
       "    }\n",
       "\n",
       "    .dataframe thead th {\n",
       "        text-align: right;\n",
       "    }\n",
       "</style>\n",
       "<table border=\"1\" class=\"dataframe\">\n",
       "  <thead>\n",
       "    <tr style=\"text-align: right;\">\n",
       "      <th></th>\n",
       "      <th>Timestamp</th>\n",
       "      <th>Machine ID</th>\n",
       "      <th>Material Category</th>\n",
       "      <th>Material Name</th>\n",
       "      <th>Quantity Used (kg)</th>\n",
       "      <th>Recycled Material (%)</th>\n",
       "      <th>Energy Consumption (kWh)</th>\n",
       "      <th>Production Output (Units)</th>\n",
       "      <th>Defect Rate (%)</th>\n",
       "    </tr>\n",
       "  </thead>\n",
       "  <tbody>\n",
       "    <tr>\n",
       "      <th>0</th>\n",
       "      <td>2025-05-01 08:00:00</td>\n",
       "      <td>M002</td>\n",
       "      <td>Raw Material</td>\n",
       "      <td>Polypropylene</td>\n",
       "      <td>86.73</td>\n",
       "      <td>0.0</td>\n",
       "      <td>96.74</td>\n",
       "      <td>204</td>\n",
       "      <td>3.38</td>\n",
       "    </tr>\n",
       "    <tr>\n",
       "      <th>1</th>\n",
       "      <td>2025-05-01 08:05:00</td>\n",
       "      <td>M009</td>\n",
       "      <td>Raw Material</td>\n",
       "      <td>Cotton</td>\n",
       "      <td>54.77</td>\n",
       "      <td>0.0</td>\n",
       "      <td>91.24</td>\n",
       "      <td>338</td>\n",
       "      <td>2.53</td>\n",
       "    </tr>\n",
       "    <tr>\n",
       "      <th>2</th>\n",
       "      <td>2025-05-01 08:10:00</td>\n",
       "      <td>M001</td>\n",
       "      <td>Hazardous Material</td>\n",
       "      <td>Lead-Based Alloy</td>\n",
       "      <td>157.40</td>\n",
       "      <td>0.0</td>\n",
       "      <td>164.16</td>\n",
       "      <td>529</td>\n",
       "      <td>1.10</td>\n",
       "    </tr>\n",
       "    <tr>\n",
       "      <th>3</th>\n",
       "      <td>2025-05-01 08:15:00</td>\n",
       "      <td>M010</td>\n",
       "      <td>Process Additive</td>\n",
       "      <td>Industrial Oil</td>\n",
       "      <td>163.82</td>\n",
       "      <td>0.0</td>\n",
       "      <td>99.16</td>\n",
       "      <td>532</td>\n",
       "      <td>1.70</td>\n",
       "    </tr>\n",
       "    <tr>\n",
       "      <th>4</th>\n",
       "      <td>2025-05-01 08:20:00</td>\n",
       "      <td>M003</td>\n",
       "      <td>Intermediate Material</td>\n",
       "      <td>Plastic Resin</td>\n",
       "      <td>65.33</td>\n",
       "      <td>0.0</td>\n",
       "      <td>125.59</td>\n",
       "      <td>467</td>\n",
       "      <td>4.24</td>\n",
       "    </tr>\n",
       "  </tbody>\n",
       "</table>\n",
       "</div>"
      ],
      "text/plain": [
       "             Timestamp Machine ID      Material Category     Material Name  \\\n",
       "0  2025-05-01 08:00:00       M002           Raw Material     Polypropylene   \n",
       "1  2025-05-01 08:05:00       M009           Raw Material            Cotton   \n",
       "2  2025-05-01 08:10:00       M001     Hazardous Material  Lead-Based Alloy   \n",
       "3  2025-05-01 08:15:00       M010       Process Additive    Industrial Oil   \n",
       "4  2025-05-01 08:20:00       M003  Intermediate Material     Plastic Resin   \n",
       "\n",
       "   Quantity Used (kg)  Recycled Material (%)  Energy Consumption (kWh)  \\\n",
       "0               86.73                    0.0                     96.74   \n",
       "1               54.77                    0.0                     91.24   \n",
       "2              157.40                    0.0                    164.16   \n",
       "3              163.82                    0.0                     99.16   \n",
       "4               65.33                    0.0                    125.59   \n",
       "\n",
       "   Production Output (Units)  Defect Rate (%)  \n",
       "0                        204             3.38  \n",
       "1                        338             2.53  \n",
       "2                        529             1.10  \n",
       "3                        532             1.70  \n",
       "4                        467             4.24  "
      ]
     },
     "execution_count": 25,
     "metadata": {},
     "output_type": "execute_result"
    }
   ],
   "source": [
    "# Import data from CSV file\n",
    "\n",
    "file_path = \"/Users/ilhamwahdini/p0-ftds043-rmt-m1-ilham8693/P0M1_ilham_wahdini_dataset.csv\"\n",
    "df = pd.read_csv(file_path)\n",
    "df.head()"
   ]
  },
  {
   "cell_type": "code",
   "execution_count": 26,
   "id": "0a79fda0",
   "metadata": {},
   "outputs": [
    {
     "name": "stdout",
     "output_type": "stream",
     "text": [
      "<class 'pandas.core.frame.DataFrame'>\n",
      "RangeIndex: 10000 entries, 0 to 9999\n",
      "Data columns (total 9 columns):\n",
      " #   Column                     Non-Null Count  Dtype  \n",
      "---  ------                     --------------  -----  \n",
      " 0   Timestamp                  10000 non-null  object \n",
      " 1   Machine ID                 10000 non-null  object \n",
      " 2   Material Category          10000 non-null  object \n",
      " 3   Material Name              10000 non-null  object \n",
      " 4   Quantity Used (kg)         10000 non-null  float64\n",
      " 5   Recycled Material (%)      10000 non-null  float64\n",
      " 6   Energy Consumption (kWh)   10000 non-null  float64\n",
      " 7   Production Output (Units)  10000 non-null  int64  \n",
      " 8   Defect Rate (%)            10000 non-null  float64\n",
      "dtypes: float64(4), int64(1), object(4)\n",
      "memory usage: 703.3+ KB\n"
     ]
    }
   ],
   "source": [
    "df.info()"
   ]
  },
  {
   "cell_type": "markdown",
   "id": "5f8ad3c9",
   "metadata": {},
   "source": [
    "Result above provide dataset information such as columns, row, null data and also type of data. There is no null data. All data types are correct except `Timestamp` that is still object type."
   ]
  },
  {
   "cell_type": "markdown",
   "id": "d93f2514",
   "metadata": {},
   "source": [
    "# IV. Data Cleaning"
   ]
  },
  {
   "cell_type": "code",
   "execution_count": 27,
   "id": "491b0be1",
   "metadata": {},
   "outputs": [
    {
     "name": "stdout",
     "output_type": "stream",
     "text": [
      "Deleted duplicate data: 0\n"
     ]
    }
   ],
   "source": [
    "# 1. Duplicates Handling\n",
    "\n",
    "initial_rows = df.shape[0]\n",
    "df = df.drop_duplicates()\n",
    "print(f\"Deleted duplicate data: {initial_rows - df.shape[0]}\")"
   ]
  },
  {
   "cell_type": "markdown",
   "id": "8898f4a5",
   "metadata": {},
   "source": [
    "From result above there is no duplicate data in dataset."
   ]
  },
  {
   "cell_type": "code",
   "execution_count": 28,
   "id": "e4606c0e",
   "metadata": {},
   "outputs": [
    {
     "name": "stdout",
     "output_type": "stream",
     "text": [
      "No negative value in Quantity Used (kg).\n",
      "No negative value in Recycled Material (%).\n",
      "No negative value in Energy Consumption (kWh).\n",
      "No negative value in Production Output (Units).\n",
      "No negative value in Defect Rate (%).\n"
     ]
    }
   ],
   "source": [
    "# 2. Checking strange data (negative) in numeric datas\n",
    "\n",
    "numeric_cols = ['Quantity Used (kg)', 'Recycled Material (%)', 'Energy Consumption (kWh)', 'Production Output (Units)', 'Defect Rate (%)']\n",
    "\n",
    "for col in numeric_cols:\n",
    "    if (df[col] < 0).any():\n",
    "        print(f\"There is negative value in {col}\")\n",
    "    else:\n",
    "        print(f\"No negative value in {col}.\")"
   ]
  },
  {
   "cell_type": "markdown",
   "id": "682e4688",
   "metadata": {},
   "source": [
    "From result above there is on negative value in dataset."
   ]
  },
  {
   "cell_type": "code",
   "execution_count": 29,
   "id": "79ae5c6a",
   "metadata": {},
   "outputs": [
    {
     "name": "stdout",
     "output_type": "stream",
     "text": [
      "<class 'pandas.core.frame.DataFrame'>\n",
      "RangeIndex: 10000 entries, 0 to 9999\n",
      "Data columns (total 9 columns):\n",
      " #   Column                     Non-Null Count  Dtype         \n",
      "---  ------                     --------------  -----         \n",
      " 0   Timestamp                  10000 non-null  datetime64[ns]\n",
      " 1   Machine ID                 10000 non-null  object        \n",
      " 2   Material Category          10000 non-null  object        \n",
      " 3   Material Name              10000 non-null  object        \n",
      " 4   Quantity Used (kg)         10000 non-null  float64       \n",
      " 5   Recycled Material (%)      10000 non-null  float64       \n",
      " 6   Energy Consumption (kWh)   10000 non-null  float64       \n",
      " 7   Production Output (Units)  10000 non-null  int64         \n",
      " 8   Defect Rate (%)            10000 non-null  float64       \n",
      "dtypes: datetime64[ns](1), float64(4), int64(1), object(3)\n",
      "memory usage: 703.3+ KB\n"
     ]
    }
   ],
   "source": [
    "# 3. Data Type Handling\n",
    "\n",
    "# Change 'Timestamp' data type\n",
    "\n",
    "df['Timestamp'] = pd.to_datetime(df['Timestamp'])\n",
    "df.info()"
   ]
  },
  {
   "cell_type": "markdown",
   "id": "003a9644",
   "metadata": {},
   "source": [
    "From the info above, `Timestamp` data type has been changed from object to datetime."
   ]
  },
  {
   "cell_type": "markdown",
   "id": "f6de6dd8",
   "metadata": {},
   "source": [
    "# V. Exploration and Analysis"
   ]
  },
  {
   "cell_type": "markdown",
   "id": "1b2a667f",
   "metadata": {},
   "source": [
    "1. Outlier analysis in datas"
   ]
  },
  {
   "cell_type": "code",
   "execution_count": 30,
   "id": "b0487598",
   "metadata": {},
   "outputs": [
    {
     "name": "stdout",
     "output_type": "stream",
     "text": [
      "Mean: 140.11\n",
      "Median: 140.31\n",
      "Mode: 98.50\n",
      "Skewness: -0.01\n",
      "Kurtosis: -1.19\n"
     ]
    }
   ],
   "source": [
    "# Energy Consumption\n",
    "\n",
    "mean = df['Energy Consumption (kWh)'].mean()\n",
    "median = df['Energy Consumption (kWh)'].median()\n",
    "mode = df['Energy Consumption (kWh)'].mode()[0]\n",
    "skew_val = skew(df['Energy Consumption (kWh)'])\n",
    "kurt_val = kurtosis(df['Energy Consumption (kWh)'])\n",
    "\n",
    "print(f\"Mean: {mean:.2f}\")\n",
    "print(f\"Median: {median:.2f}\")\n",
    "print(f\"Mode: {mode:.2f}\")\n",
    "print(f\"Skewness: {skew_val:.2f}\")\n",
    "print(f\"Kurtosis: {kurt_val:.2f}\")"
   ]
  },
  {
   "cell_type": "markdown",
   "id": "9d33b159",
   "metadata": {},
   "source": [
    "Important to check the outlier for `Energy Consumption` since this data will be analzed further. The result above, Skewness is very close to 0, which means the distribution is approximately symmetric, or close to normal. Since it's slightly negative, the left tail might be slightly longer, but the skewness is so small it's practically negligible. A negative kurtosis (less than 0) indicates fewer outliers, so no need to conduct further outlier handling."
   ]
  },
  {
   "cell_type": "code",
   "execution_count": 31,
   "id": "0827d438",
   "metadata": {},
   "outputs": [
    {
     "name": "stdout",
     "output_type": "stream",
     "text": [
      "Mean: 2.53\n",
      "Median: 2.54\n",
      "Mode: 2.34\n",
      "Skewness: -0.03\n",
      "Kurtosis: -1.19\n"
     ]
    }
   ],
   "source": [
    "# Depect\n",
    "\n",
    "mean = df['Defect Rate (%)'].mean()\n",
    "median = df['Defect Rate (%)'].median()\n",
    "mode = df['Defect Rate (%)'].mode()[0]\n",
    "skew_val = skew(df['Defect Rate (%)'])\n",
    "kurt_val = kurtosis(df['Defect Rate (%)'])\n",
    "\n",
    "print(f\"Mean: {mean:.2f}\")\n",
    "print(f\"Median: {median:.2f}\")\n",
    "print(f\"Mode: {mode:.2f}\")\n",
    "print(f\"Skewness: {skew_val:.2f}\")\n",
    "print(f\"Kurtosis: {kurt_val:.2f}\")"
   ]
  },
  {
   "cell_type": "markdown",
   "id": "652816a5",
   "metadata": {},
   "source": [
    "Also important to check the outlier for `Defect` since this data will be analzed further.The result above, Skewness is very close to 0, which means the distribution is approximately symmetric, but a little bit negative so also slightly to the left. Kurtosis is also less than 0, it indicates fewer outliers."
   ]
  },
  {
   "cell_type": "markdown",
   "id": "f5aa4393",
   "metadata": {},
   "source": [
    "2. Machine performance based on total product"
   ]
  },
  {
   "cell_type": "code",
   "execution_count": 32,
   "id": "6164f1a8",
   "metadata": {},
   "outputs": [
    {
     "data": {
      "text/html": [
       "<div>\n",
       "<style scoped>\n",
       "    .dataframe tbody tr th:only-of-type {\n",
       "        vertical-align: middle;\n",
       "    }\n",
       "\n",
       "    .dataframe tbody tr th {\n",
       "        vertical-align: top;\n",
       "    }\n",
       "\n",
       "    .dataframe thead th {\n",
       "        text-align: right;\n",
       "    }\n",
       "</style>\n",
       "<table border=\"1\" class=\"dataframe\">\n",
       "  <thead>\n",
       "    <tr style=\"text-align: right;\">\n",
       "      <th></th>\n",
       "      <th>Machine ID</th>\n",
       "      <th>Production Output (Units)</th>\n",
       "    </tr>\n",
       "  </thead>\n",
       "  <tbody>\n",
       "    <tr>\n",
       "      <th>0</th>\n",
       "      <td>M001</td>\n",
       "      <td>558576</td>\n",
       "    </tr>\n",
       "    <tr>\n",
       "      <th>1</th>\n",
       "      <td>M002</td>\n",
       "      <td>560642</td>\n",
       "    </tr>\n",
       "    <tr>\n",
       "      <th>2</th>\n",
       "      <td>M003</td>\n",
       "      <td>529879</td>\n",
       "    </tr>\n",
       "    <tr>\n",
       "      <th>3</th>\n",
       "      <td>M004</td>\n",
       "      <td>548752</td>\n",
       "    </tr>\n",
       "    <tr>\n",
       "      <th>4</th>\n",
       "      <td>M005</td>\n",
       "      <td>556393</td>\n",
       "    </tr>\n",
       "    <tr>\n",
       "      <th>5</th>\n",
       "      <td>M006</td>\n",
       "      <td>562342</td>\n",
       "    </tr>\n",
       "    <tr>\n",
       "      <th>6</th>\n",
       "      <td>M007</td>\n",
       "      <td>586865</td>\n",
       "    </tr>\n",
       "    <tr>\n",
       "      <th>7</th>\n",
       "      <td>M008</td>\n",
       "      <td>528862</td>\n",
       "    </tr>\n",
       "    <tr>\n",
       "      <th>8</th>\n",
       "      <td>M009</td>\n",
       "      <td>551548</td>\n",
       "    </tr>\n",
       "    <tr>\n",
       "      <th>9</th>\n",
       "      <td>M010</td>\n",
       "      <td>550956</td>\n",
       "    </tr>\n",
       "  </tbody>\n",
       "</table>\n",
       "</div>"
      ],
      "text/plain": [
       "  Machine ID  Production Output (Units)\n",
       "0       M001                     558576\n",
       "1       M002                     560642\n",
       "2       M003                     529879\n",
       "3       M004                     548752\n",
       "4       M005                     556393\n",
       "5       M006                     562342\n",
       "6       M007                     586865\n",
       "7       M008                     528862\n",
       "8       M009                     551548\n",
       "9       M010                     550956"
      ]
     },
     "execution_count": 32,
     "metadata": {},
     "output_type": "execute_result"
    }
   ],
   "source": [
    "df.groupby(['Machine ID'])['Production Output (Units)'].sum().reset_index()"
   ]
  },
  {
   "cell_type": "code",
   "execution_count": 33,
   "id": "7ce986f2",
   "metadata": {},
   "outputs": [
    {
     "data": {
      "text/plain": [
       "<Axes: ylabel='Machine ID'>"
      ]
     },
     "execution_count": 33,
     "metadata": {},
     "output_type": "execute_result"
    },
    {
     "data": {
      "image/png": "[encoded data removed]",
      "text/plain": [
       "<Figure size 640x480 with 1 Axes>"
      ]
     },
     "metadata": {},
     "output_type": "display_data"
    }
   ],
   "source": [
    "df.groupby(['Machine ID'])['Production Output (Units)'].sum().sort_values().plot(kind='barh')"
   ]
  },
  {
   "cell_type": "markdown",
   "id": "79446b08",
   "metadata": {},
   "source": [
    "Based on Bar Chart, The highest total `Production Output` is machine with `Machine ID` `M007`, and the lowest is `M008`."
   ]
  },
  {
   "cell_type": "markdown",
   "id": "722831f9",
   "metadata": {},
   "source": [
    "3. Machine performance based on total energy consumed"
   ]
  },
  {
   "cell_type": "code",
   "execution_count": 34,
   "id": "912d10b8",
   "metadata": {},
   "outputs": [
    {
     "data": {
      "text/html": [
       "<div>\n",
       "<style scoped>\n",
       "    .dataframe tbody tr th:only-of-type {\n",
       "        vertical-align: middle;\n",
       "    }\n",
       "\n",
       "    .dataframe tbody tr th {\n",
       "        vertical-align: top;\n",
       "    }\n",
       "\n",
       "    .dataframe thead th {\n",
       "        text-align: right;\n",
       "    }\n",
       "</style>\n",
       "<table border=\"1\" class=\"dataframe\">\n",
       "  <thead>\n",
       "    <tr style=\"text-align: right;\">\n",
       "      <th></th>\n",
       "      <th>Machine ID</th>\n",
       "      <th>Energy Consumption (kWh)</th>\n",
       "    </tr>\n",
       "  </thead>\n",
       "  <tbody>\n",
       "    <tr>\n",
       "      <th>0</th>\n",
       "      <td>M001</td>\n",
       "      <td>139700.79</td>\n",
       "    </tr>\n",
       "    <tr>\n",
       "      <th>1</th>\n",
       "      <td>M002</td>\n",
       "      <td>140654.92</td>\n",
       "    </tr>\n",
       "    <tr>\n",
       "      <th>2</th>\n",
       "      <td>M003</td>\n",
       "      <td>136286.32</td>\n",
       "    </tr>\n",
       "    <tr>\n",
       "      <th>3</th>\n",
       "      <td>M004</td>\n",
       "      <td>138501.80</td>\n",
       "    </tr>\n",
       "    <tr>\n",
       "      <th>4</th>\n",
       "      <td>M005</td>\n",
       "      <td>143595.01</td>\n",
       "    </tr>\n",
       "    <tr>\n",
       "      <th>5</th>\n",
       "      <td>M006</td>\n",
       "      <td>141844.12</td>\n",
       "    </tr>\n",
       "    <tr>\n",
       "      <th>6</th>\n",
       "      <td>M007</td>\n",
       "      <td>146816.53</td>\n",
       "    </tr>\n",
       "    <tr>\n",
       "      <th>7</th>\n",
       "      <td>M008</td>\n",
       "      <td>134084.51</td>\n",
       "    </tr>\n",
       "    <tr>\n",
       "      <th>8</th>\n",
       "      <td>M009</td>\n",
       "      <td>139297.66</td>\n",
       "    </tr>\n",
       "    <tr>\n",
       "      <th>9</th>\n",
       "      <td>M010</td>\n",
       "      <td>140337.35</td>\n",
       "    </tr>\n",
       "  </tbody>\n",
       "</table>\n",
       "</div>"
      ],
      "text/plain": [
       "  Machine ID  Energy Consumption (kWh)\n",
       "0       M001                 139700.79\n",
       "1       M002                 140654.92\n",
       "2       M003                 136286.32\n",
       "3       M004                 138501.80\n",
       "4       M005                 143595.01\n",
       "5       M006                 141844.12\n",
       "6       M007                 146816.53\n",
       "7       M008                 134084.51\n",
       "8       M009                 139297.66\n",
       "9       M010                 140337.35"
      ]
     },
     "execution_count": 34,
     "metadata": {},
     "output_type": "execute_result"
    }
   ],
   "source": [
    "df.groupby(['Machine ID'])['Energy Consumption (kWh)'].sum().reset_index()"
   ]
  },
  {
   "cell_type": "code",
   "execution_count": 35,
   "id": "dfedb24d",
   "metadata": {},
   "outputs": [
    {
     "data": {
      "text/plain": [
       "<Axes: ylabel='Machine ID'>"
      ]
     },
     "execution_count": 35,
     "metadata": {},
     "output_type": "execute_result"
    },
    {
     "data": {
      "image/png": "[encoded data removed]",
      "text/plain": [
       "<Figure size 640x480 with 1 Axes>"
      ]
     },
     "metadata": {},
     "output_type": "display_data"
    }
   ],
   "source": [
    "df.groupby(['Machine ID'])['Energy Consumption (kWh)'].sum().sort_values().plot(kind='barh')"
   ]
  },
  {
   "cell_type": "markdown",
   "id": "fb8c4a3b",
   "metadata": {},
   "source": [
    "Based on Bar Chart, The highest total `Energy Consumption` is machine with `Machine ID` `M007`, and the lowest is `M008`."
   ]
  },
  {
   "cell_type": "markdown",
   "id": "980edab6",
   "metadata": {},
   "source": [
    "4. Machine performance based on average energy consumed"
   ]
  },
  {
   "cell_type": "code",
   "execution_count": 36,
   "id": "0c2276e9",
   "metadata": {},
   "outputs": [
    {
     "data": {
      "text/plain": [
       "Machine ID\n",
       "M007    1041\n",
       "M006    1020\n",
       "M002    1007\n",
       "M005    1004\n",
       "M001    1002\n",
       "M009    1000\n",
       "M010     994\n",
       "M004     994\n",
       "M008     974\n",
       "M003     964\n",
       "Name: count, dtype: int64"
      ]
     },
     "execution_count": 36,
     "metadata": {},
     "output_type": "execute_result"
    }
   ],
   "source": [
    "# Frequency of machine use\n",
    "\n",
    "machine_freq = df['Machine ID'].value_counts()\n",
    "machine_freq"
   ]
  },
  {
   "cell_type": "markdown",
   "id": "f8b863c9",
   "metadata": {},
   "source": [
    "Data above tells the frequency of the machine use in dataset. because they have different frequency value. To see machine performace, need to do mean/average."
   ]
  },
  {
   "cell_type": "code",
   "execution_count": 37,
   "id": "8582654a",
   "metadata": {},
   "outputs": [
    {
     "data": {
      "text/html": [
       "<div>\n",
       "<style scoped>\n",
       "    .dataframe tbody tr th:only-of-type {\n",
       "        vertical-align: middle;\n",
       "    }\n",
       "\n",
       "    .dataframe tbody tr th {\n",
       "        vertical-align: top;\n",
       "    }\n",
       "\n",
       "    .dataframe thead th {\n",
       "        text-align: right;\n",
       "    }\n",
       "</style>\n",
       "<table border=\"1\" class=\"dataframe\">\n",
       "  <thead>\n",
       "    <tr style=\"text-align: right;\">\n",
       "      <th></th>\n",
       "      <th>Machine ID</th>\n",
       "      <th>Energy Consumption (kWh)</th>\n",
       "    </tr>\n",
       "  </thead>\n",
       "  <tbody>\n",
       "    <tr>\n",
       "      <th>0</th>\n",
       "      <td>M001</td>\n",
       "      <td>139.421946</td>\n",
       "    </tr>\n",
       "    <tr>\n",
       "      <th>1</th>\n",
       "      <td>M002</td>\n",
       "      <td>139.677180</td>\n",
       "    </tr>\n",
       "    <tr>\n",
       "      <th>2</th>\n",
       "      <td>M003</td>\n",
       "      <td>141.375851</td>\n",
       "    </tr>\n",
       "    <tr>\n",
       "      <th>3</th>\n",
       "      <td>M004</td>\n",
       "      <td>139.337827</td>\n",
       "    </tr>\n",
       "    <tr>\n",
       "      <th>4</th>\n",
       "      <td>M005</td>\n",
       "      <td>143.022918</td>\n",
       "    </tr>\n",
       "    <tr>\n",
       "      <th>5</th>\n",
       "      <td>M006</td>\n",
       "      <td>139.062863</td>\n",
       "    </tr>\n",
       "    <tr>\n",
       "      <th>6</th>\n",
       "      <td>M007</td>\n",
       "      <td>141.034131</td>\n",
       "    </tr>\n",
       "    <tr>\n",
       "      <th>7</th>\n",
       "      <td>M008</td>\n",
       "      <td>137.663768</td>\n",
       "    </tr>\n",
       "    <tr>\n",
       "      <th>8</th>\n",
       "      <td>M009</td>\n",
       "      <td>139.297660</td>\n",
       "    </tr>\n",
       "    <tr>\n",
       "      <th>9</th>\n",
       "      <td>M010</td>\n",
       "      <td>141.184457</td>\n",
       "    </tr>\n",
       "  </tbody>\n",
       "</table>\n",
       "</div>"
      ],
      "text/plain": [
       "  Machine ID  Energy Consumption (kWh)\n",
       "0       M001                139.421946\n",
       "1       M002                139.677180\n",
       "2       M003                141.375851\n",
       "3       M004                139.337827\n",
       "4       M005                143.022918\n",
       "5       M006                139.062863\n",
       "6       M007                141.034131\n",
       "7       M008                137.663768\n",
       "8       M009                139.297660\n",
       "9       M010                141.184457"
      ]
     },
     "execution_count": 37,
     "metadata": {},
     "output_type": "execute_result"
    }
   ],
   "source": [
    "mean_df = df.groupby(['Machine ID'])['Energy Consumption (kWh)'].mean().reset_index()\n",
    "mean_df"
   ]
  },
  {
   "cell_type": "code",
   "execution_count": 38,
   "id": "f8f0c438",
   "metadata": {},
   "outputs": [
    {
     "data": {
      "text/plain": [
       "<Axes: ylabel='Machine ID'>"
      ]
     },
     "execution_count": 38,
     "metadata": {},
     "output_type": "execute_result"
    },
    {
     "data": {
      "image/png": "[encoded data removed]",
      "text/plain": [
       "<Figure size 640x480 with 1 Axes>"
      ]
     },
     "metadata": {},
     "output_type": "display_data"
    }
   ],
   "source": [
    "df.groupby(['Machine ID'])['Energy Consumption (kWh)'].mean().sort_values().plot(kind='barh')"
   ]
  },
  {
   "cell_type": "code",
   "execution_count": 39,
   "id": "115a389e",
   "metadata": {},
   "outputs": [
    {
     "name": "stdout",
     "output_type": "stream",
     "text": [
      "Percentage of reduction possibility from Energy Consumption: 3.75%\n"
     ]
    }
   ],
   "source": [
    "# Calculate the reduction possibility from Energy Consumption\n",
    "\n",
    "max_mean = mean_df['Energy Consumption (kWh)'].max()\n",
    "min_mean = mean_df['Energy Consumption (kWh)'].min()\n",
    "percentage_drop = ((max_mean - min_mean) / max_mean) * 100\n",
    "\n",
    "print(f\"Percentage of reduction possibility from Energy Consumption: {percentage_drop:.2f}%\")"
   ]
  },
  {
   "cell_type": "markdown",
   "id": "7a03bbb7",
   "metadata": {},
   "source": [
    "Based on Bar Chart above, The highest average `Energy Consumption` is machine with `Machine ID` `M005`, and the lowest is `M008`. It means M008 has best performance among all in term of saving energy. Based on this analysis others machine should refer to M008 performance esspecialy M005. In that case the reduction possibility from `Energy Consumption` for M005 is 3.75%. To do that can do benchmarking against M008 and conduct technical peformance comparison such as Operating conditions, Maintenance schedules, Load capacity and usage patterns, Component wear or calibration settings."
   ]
  },
  {
   "cell_type": "markdown",
   "id": "2f6b3d2b",
   "metadata": {},
   "source": [
    "5. Machine performance based on average defect"
   ]
  },
  {
   "cell_type": "code",
   "execution_count": 40,
   "id": "7c97ad19",
   "metadata": {},
   "outputs": [
    {
     "data": {
      "text/html": [
       "<div>\n",
       "<style scoped>\n",
       "    .dataframe tbody tr th:only-of-type {\n",
       "        vertical-align: middle;\n",
       "    }\n",
       "\n",
       "    .dataframe tbody tr th {\n",
       "        vertical-align: top;\n",
       "    }\n",
       "\n",
       "    .dataframe thead th {\n",
       "        text-align: right;\n",
       "    }\n",
       "</style>\n",
       "<table border=\"1\" class=\"dataframe\">\n",
       "  <thead>\n",
       "    <tr style=\"text-align: right;\">\n",
       "      <th></th>\n",
       "      <th>Machine ID</th>\n",
       "      <th>Defect Rate (%)</th>\n",
       "    </tr>\n",
       "  </thead>\n",
       "  <tbody>\n",
       "    <tr>\n",
       "      <th>0</th>\n",
       "      <td>M001</td>\n",
       "      <td>2.553074</td>\n",
       "    </tr>\n",
       "    <tr>\n",
       "      <th>1</th>\n",
       "      <td>M002</td>\n",
       "      <td>2.489484</td>\n",
       "    </tr>\n",
       "    <tr>\n",
       "      <th>2</th>\n",
       "      <td>M003</td>\n",
       "      <td>2.515228</td>\n",
       "    </tr>\n",
       "    <tr>\n",
       "      <th>3</th>\n",
       "      <td>M004</td>\n",
       "      <td>2.544286</td>\n",
       "    </tr>\n",
       "    <tr>\n",
       "      <th>4</th>\n",
       "      <td>M005</td>\n",
       "      <td>2.585867</td>\n",
       "    </tr>\n",
       "    <tr>\n",
       "      <th>5</th>\n",
       "      <td>M006</td>\n",
       "      <td>2.516882</td>\n",
       "    </tr>\n",
       "    <tr>\n",
       "      <th>6</th>\n",
       "      <td>M007</td>\n",
       "      <td>2.472920</td>\n",
       "    </tr>\n",
       "    <tr>\n",
       "      <th>7</th>\n",
       "      <td>M008</td>\n",
       "      <td>2.481201</td>\n",
       "    </tr>\n",
       "    <tr>\n",
       "      <th>8</th>\n",
       "      <td>M009</td>\n",
       "      <td>2.573530</td>\n",
       "    </tr>\n",
       "    <tr>\n",
       "      <th>9</th>\n",
       "      <td>M010</td>\n",
       "      <td>2.538139</td>\n",
       "    </tr>\n",
       "  </tbody>\n",
       "</table>\n",
       "</div>"
      ],
      "text/plain": [
       "  Machine ID  Defect Rate (%)\n",
       "0       M001         2.553074\n",
       "1       M002         2.489484\n",
       "2       M003         2.515228\n",
       "3       M004         2.544286\n",
       "4       M005         2.585867\n",
       "5       M006         2.516882\n",
       "6       M007         2.472920\n",
       "7       M008         2.481201\n",
       "8       M009         2.573530\n",
       "9       M010         2.538139"
      ]
     },
     "execution_count": 40,
     "metadata": {},
     "output_type": "execute_result"
    }
   ],
   "source": [
    "mean_df = df.groupby(['Machine ID'])['Defect Rate (%)'].mean().reset_index()\n",
    "mean_df"
   ]
  },
  {
   "cell_type": "code",
   "execution_count": 41,
   "id": "54468b87",
   "metadata": {},
   "outputs": [
    {
     "data": {
      "text/plain": [
       "<Axes: ylabel='Machine ID'>"
      ]
     },
     "execution_count": 41,
     "metadata": {},
     "output_type": "execute_result"
    },
    {
     "data": {
      "image/png": "[encoded data removed]",
      "text/plain": [
       "<Figure size 640x480 with 1 Axes>"
      ]
     },
     "metadata": {},
     "output_type": "display_data"
    }
   ],
   "source": [
    "df.groupby(['Machine ID'])['Defect Rate (%)'].mean().sort_values().plot(kind='barh')"
   ]
  },
  {
   "cell_type": "code",
   "execution_count": 42,
   "id": "54e41530",
   "metadata": {},
   "outputs": [
    {
     "name": "stdout",
     "output_type": "stream",
     "text": [
      "Percentage of reduction possibility from Defect: 4.37%\n"
     ]
    }
   ],
   "source": [
    "# Calculate the reduction possibility from Defect\n",
    "\n",
    "max_mean = mean_df['Defect Rate (%)'].max()\n",
    "min_mean = mean_df['Defect Rate (%)'].min()\n",
    "percentage_drop = ((max_mean - min_mean) / max_mean) * 100\n",
    "\n",
    "print(f\"Percentage of reduction possibility from Defect: {percentage_drop:.2f}%\")"
   ]
  },
  {
   "cell_type": "markdown",
   "id": "df184e18",
   "metadata": {},
   "source": [
    "Based on Bar Chart above, The highest average `Defect` is machine with `Machine ID` `M005`, and the lowest is `M007`. It means M007 has best performance among all in term of defect result. Based on this analysis others machine should refer to M007 performance esspecialy M005. In that case the reduction possibility from `Defect` for M005 is 4.37%. To do that can do benchmarking against M007 and conduct technical peformance comparison such as Operating conditions, Maintenance schedules, Load capacity and usage patterns, Component wear or calibration settings."
   ]
  },
  {
   "cell_type": "markdown",
   "id": "cf03cf8b",
   "metadata": {},
   "source": [
    "6. Correlation with product output"
   ]
  },
  {
   "cell_type": "code",
   "execution_count": 43,
   "id": "1a7eff7f",
   "metadata": {},
   "outputs": [
    {
     "data": {
      "text/html": [
       "<div>\n",
       "<style scoped>\n",
       "    .dataframe tbody tr th:only-of-type {\n",
       "        vertical-align: middle;\n",
       "    }\n",
       "\n",
       "    .dataframe tbody tr th {\n",
       "        vertical-align: top;\n",
       "    }\n",
       "\n",
       "    .dataframe thead th {\n",
       "        text-align: right;\n",
       "    }\n",
       "</style>\n",
       "<table border=\"1\" class=\"dataframe\">\n",
       "  <thead>\n",
       "    <tr style=\"text-align: right;\">\n",
       "      <th></th>\n",
       "      <th>Production Output (Units)</th>\n",
       "      <th>Energy Consumption (kWh)</th>\n",
       "      <th>Defect Rate (%)</th>\n",
       "    </tr>\n",
       "  </thead>\n",
       "  <tbody>\n",
       "    <tr>\n",
       "      <th>0</th>\n",
       "      <td>204</td>\n",
       "      <td>96.74</td>\n",
       "      <td>3.38</td>\n",
       "    </tr>\n",
       "    <tr>\n",
       "      <th>1</th>\n",
       "      <td>338</td>\n",
       "      <td>91.24</td>\n",
       "      <td>2.53</td>\n",
       "    </tr>\n",
       "    <tr>\n",
       "      <th>2</th>\n",
       "      <td>529</td>\n",
       "      <td>164.16</td>\n",
       "      <td>1.10</td>\n",
       "    </tr>\n",
       "    <tr>\n",
       "      <th>3</th>\n",
       "      <td>532</td>\n",
       "      <td>99.16</td>\n",
       "      <td>1.70</td>\n",
       "    </tr>\n",
       "    <tr>\n",
       "      <th>4</th>\n",
       "      <td>467</td>\n",
       "      <td>125.59</td>\n",
       "      <td>4.24</td>\n",
       "    </tr>\n",
       "  </tbody>\n",
       "</table>\n",
       "</div>"
      ],
      "text/plain": [
       "   Production Output (Units)  Energy Consumption (kWh)  Defect Rate (%)\n",
       "0                        204                     96.74             3.38\n",
       "1                        338                     91.24             2.53\n",
       "2                        529                    164.16             1.10\n",
       "3                        532                     99.16             1.70\n",
       "4                        467                    125.59             4.24"
      ]
     },
     "execution_count": 43,
     "metadata": {},
     "output_type": "execute_result"
    }
   ],
   "source": [
    "df[['Production Output (Units)', 'Energy Consumption (kWh)', 'Defect Rate (%)']].head()"
   ]
  },
  {
   "cell_type": "code",
   "execution_count": 44,
   "id": "1f4217ad",
   "metadata": {},
   "outputs": [
    {
     "name": "stdout",
     "output_type": "stream",
     "text": [
      "For Energy Consumption, r-correlation: -0.0017, p-value: 0.8681\n",
      "For Defect, r-correlation: 0.0092, p-value: 0.3565\n"
     ]
    }
   ],
   "source": [
    "corr_r_kwh, pval_p_kwh = stats.pearsonr(df['Production Output (Units)'], df['Energy Consumption (kWh)'])\n",
    "corr_r_d, pval_p_d = stats.pearsonr(df['Production Output (Units)'], df['Defect Rate (%)'])\n",
    "\n",
    "print(f\"For Energy Consumption, r-correlation: {corr_r_kwh:.4f}, p-value: {pval_p_kwh:.4f}\")\n",
    "print(f\"For Defect, r-correlation: {corr_r_d:.4f}, p-value: {pval_p_d:.4f}\")"
   ]
  },
  {
   "cell_type": "markdown",
   "id": "8376c779",
   "metadata": {},
   "source": [
    "Result above is correlation calculation using Pearson (r), because there is not many outlier. For `Energy Consumption`, it indicates a very weak negative correlation between energy consumption and product output, we can say essentially no meaningful relationship. For `Defect`, it also shows a very weak positive correlation, which again implies no meaningful association between the number of defects and the number of products produced."
   ]
  },
  {
   "cell_type": "markdown",
   "id": "9778d59a",
   "metadata": {},
   "source": [
    "7. Machine affecting performace"
   ]
  },
  {
   "cell_type": "code",
   "execution_count": 45,
   "id": "c2f0db1d",
   "metadata": {},
   "outputs": [
    {
     "data": {
      "text/plain": [
       "array(['M002', 'M009', 'M001', 'M010', 'M003', 'M005', 'M004', 'M006',\n",
       "       'M008', 'M007'], dtype=object)"
      ]
     },
     "execution_count": 45,
     "metadata": {},
     "output_type": "execute_result"
    }
   ],
   "source": [
    "df['Machine ID'].unique()"
   ]
  },
  {
   "cell_type": "markdown",
   "id": "d8c69bf2",
   "metadata": {},
   "source": [
    "Above is the list for all machines."
   ]
  },
  {
   "cell_type": "code",
   "execution_count": 46,
   "id": "428c1039",
   "metadata": {},
   "outputs": [
    {
     "name": "stdout",
     "output_type": "stream",
     "text": [
      "For Energy Consumption, P-value: 0.0404\n",
      "For Defect, P-value: 0.6909\n"
     ]
    }
   ],
   "source": [
    "energy_list = []\n",
    "defect_list = []\n",
    "\n",
    "for i in range(1, 11):\n",
    "    \n",
    "    machine_data = df['Energy Consumption (kWh)'][df['Machine ID'] == f'M{i:03}']\n",
    "    energy_list.append(machine_data)\n",
    "\n",
    "    machine_data = df['Defect Rate (%)'][df['Machine ID'] == f'M{i:03}']\n",
    "    defect_list.append(machine_data)\n",
    "                                   \n",
    "res_kwh = stats.f_oneway(*energy_list)\n",
    "res_d = stats.f_oneway(*defect_list)\n",
    "\n",
    "print(f'For Energy Consumption, P-value: {res_kwh.pvalue:.4f}')\n",
    "print(f'For Defect, P-value: {res_d.pvalue:.4f}')"
   ]
  },
  {
   "cell_type": "markdown",
   "id": "21545cc5",
   "metadata": {},
   "source": [
    "Above result is Inferential Analysis by Machine ID with ANOVA:\n",
    "\n",
    "1. Effect of Machine ID on Energy Consumption\n",
    "\n",
    "H0: There is no significant difference in energy consumption among machines.\n",
    "\n",
    "H1: There is a significant difference in energy consumption among machines.\n",
    "\n",
    "Since p < 0.05, we reject the null hypothesis. There is a statistically significant difference in energy consumption between machines. Some machines clearly consume more energy than others, not by random chance. So all machine should refer to the best machine as defult. To do that can do benchmarking against best machine and conduct technical peformance comparison such as Operating conditions, Maintenance schedules, Load capacity and usage patterns, Component wear or calibration settings.\n",
    "\n",
    "2. Effect of Machine ID on Defect\n",
    "\n",
    "H0: There is no significant difference in defect rate among machines.\n",
    "\n",
    "H1: There is a significant difference in defect rate among machines.\n",
    "\n",
    "Since p > 0.05, we accept the null hypothesis. There is no statistically significant difference in defect counts across machines. Variations in defects between machines might just be due to other factor outside the dataset, such as Material Quality or Human Error.\n"
   ]
  },
  {
   "cell_type": "markdown",
   "id": "ef950048",
   "metadata": {},
   "source": [
    "# VI. Conclusion"
   ]
  },
  {
   "cell_type": "markdown",
   "id": "b42d7b83",
   "metadata": {},
   "source": [
    "Based on the analysis of the dataset, several key insights were obtained to support process optimization and energy efficiency in the manufacturing environment:\n",
    "\n",
    "1. Outlier analysis revealed `Energy consumption` and `defect` data is approximately normally distributed with minimal skew and low outlier presence, so no further outlier handling is necessary. `Energy consumption Skewness: -0.01, Kurtosis: -1.19` and `Defect Skewness: -0.03, Kurtosis: -1.19`.\n",
    "\n",
    "2. Machine Performance for `M00`7 has the `highest` total production output, while `M008` has the `lowest`, based on the bar chart visualization.\n",
    "\n",
    "\n",
    "3. For total energy consumption, based on the bar chart, Machine `M007` has the `highest` total energy consumption, while `M008` has the `lowest`.\n",
    "\n",
    "4. Machine `M008` has the best average energy efficiency, suggesting other machines especially `M005`, which could potentially reduce energy use by 3.75% should benchmark against `M008` through technical performance comparisons.\n",
    "\n",
    "5. Machine `M007` has the best defect performance, so other machines—particularly `M005`, which could reduce defects by 4.37%—should benchmark against `M007` through technical performance evaluations.\n",
    "\n",
    "6. Correlation Analysis tells that here is `no meaningful correlation` between `product output` and either `energy consumption` or `defect count`, indicating that production output do not significantly influence these factors. `Energy Consumption r-correlation: -0.0017` and `Defect r-correlation: 0.0092`.\n",
    "\n",
    "7. Based on inferential Analysis by `Machine ID`, Machines show `significant` differences in `energy consumption` but `not` in `defect` rates, suggesting optimization efforts should focus on aligning all machines with the most energy-efficient one while considering external factors for defects. `Energy Consumption P-value: 0.0404` and `Defect, P-value: 0.6909`.\n",
    "\n",
    "The analysis shows that energy consumption and defect data are normally distributed with minimal outliers. Machine M007 leads in less defect performance, while M008 is the most energy efficient. Significant differences exist in energy consumption across machines but not in defect rates, indicating optimization should focus on energy efficiency benchmarking, especially improving machines like M005 by referencing M007 and M008.\n",
    "\n",
    "Recommendations: To improve smart manufacturing in the factory, it is recommended to benchmark energy efficiency and defect performance using the best performing machines. By analyzing and adopting their operating conditions, maintenance schedules, load capacities, and component settings. Implementing real-time monitoring, standardizing operating parameters, and training staff on best practices will support continuous optimization. Leveraging data-driven decision-making will help maintain these benchmarks and drive ongoing enhancements in productivity, cost efficiency, and product quality."
   ]
  }
 ],
 "metadata": {
  "kernelspec": {
   "display_name": "base",
   "language": "python",
   "name": "python3"
  },
  "language_info": {
   "codemirror_mode": {
    "name": "ipython",
    "version": 3
   },
   "file_extension": ".py",
   "mimetype": "text/x-python",
   "name": "python",
   "nbconvert_exporter": "python",
   "pygments_lexer": "ipython3",
   "version": "3.12.7"
  }
 },
 "nbformat": 4,
 "nbformat_minor": 5
}
